{
 "cells": [
  {
   "cell_type": "markdown",
   "metadata": {},
   "source": [
    "### TP3 Antoine Sterna  / 07/10/2020\n"
   ]
  },
  {
   "cell_type": "code",
   "execution_count": 1,
   "metadata": {},
   "outputs": [
    {
     "name": "stdout",
     "output_type": "stream",
     "text": [
      "2\n"
     ]
    }
   ],
   "source": [
    "import numpy as np\n",
    "import matplotlib.pyplot as plt\n",
    "a = np.array([[1,2,3], [4,5,6]])\n",
    "print(a[0,1])\n",
    "\n"
   ]
  },
  {
   "cell_type": "markdown",
   "metadata": {},
   "source": [
    "m = np.arange(3, 15, 2)\n",
    "print(m)"
   ]
  },
  {
   "cell_type": "code",
   "execution_count": 23,
   "metadata": {},
   "outputs": [
    {
     "name": "stdout",
     "output_type": "stream",
     "text": [
      "[3.         3.06060606 3.12121212 3.18181818 3.24242424 3.3030303\n",
      " 3.36363636 3.42424242 3.48484848 3.54545455 3.60606061 3.66666667\n",
      " 3.72727273 3.78787879 3.84848485 3.90909091 3.96969697 4.03030303\n",
      " 4.09090909 4.15151515 4.21212121 4.27272727 4.33333333 4.39393939\n",
      " 4.45454545 4.51515152 4.57575758 4.63636364 4.6969697  4.75757576\n",
      " 4.81818182 4.87878788 4.93939394 5.         5.06060606 5.12121212\n",
      " 5.18181818 5.24242424 5.3030303  5.36363636 5.42424242 5.48484848\n",
      " 5.54545455 5.60606061 5.66666667 5.72727273 5.78787879 5.84848485\n",
      " 5.90909091 5.96969697 6.03030303 6.09090909 6.15151515 6.21212121\n",
      " 6.27272727 6.33333333 6.39393939 6.45454545 6.51515152 6.57575758\n",
      " 6.63636364 6.6969697  6.75757576 6.81818182 6.87878788 6.93939394\n",
      " 7.         7.06060606 7.12121212 7.18181818 7.24242424 7.3030303\n",
      " 7.36363636 7.42424242 7.48484848 7.54545455 7.60606061 7.66666667\n",
      " 7.72727273 7.78787879 7.84848485 7.90909091 7.96969697 8.03030303\n",
      " 8.09090909 8.15151515 8.21212121 8.27272727 8.33333333 8.39393939\n",
      " 8.45454545 8.51515152 8.57575758 8.63636364 8.6969697  8.75757576\n",
      " 8.81818182 8.87878788 8.93939394 9.        ]\n"
     ]
    }
   ],
   "source": [
    "d = np.linspace(3, 9, 100)\n",
    "print(d)\n"
   ]
  },
  {
   "cell_type": "code",
   "execution_count": 18,
   "metadata": {},
   "outputs": [
    {
     "name": "stdout",
     "output_type": "stream",
     "text": [
      "[0.02439024 0.04347826 0.01204819 ... 0.07692308 0.02857143 0.25      ]\n"
     ]
    }
   ],
   "source": [
    "tableau_large = np.random.randint(1, 100, size=100000)\n",
    "tableau_large = 1.0 / tableau_large\n",
    "print(tableau_large)"
   ]
  },
  {
   "cell_type": "markdown",
   "metadata": {},
   "source": [
    "### Exo 1"
   ]
  },
  {
   "cell_type": "code",
   "execution_count": null,
   "metadata": {},
   "outputs": [],
   "source": [
    "import numpy as np\n",
    "import matplotlib.pyplot as plt"
   ]
  },
  {
   "cell_type": "markdown",
   "metadata": {},
   "source": [
    "### Exo 2 / carrés magiques"
   ]
  },
  {
   "cell_type": "code",
   "execution_count": null,
   "metadata": {},
   "outputs": [],
   "source": [
    "import numpy as np\n"
   ]
  }
 ],
 "metadata": {
  "kernelspec": {
   "display_name": "Python 3",
   "language": "python",
   "name": "python3"
  },
  "language_info": {
   "codemirror_mode": {
    "name": "ipython",
    "version": 3
   },
   "file_extension": ".py",
   "mimetype": "text/x-python",
   "name": "python",
   "nbconvert_exporter": "python",
   "pygments_lexer": "ipython3",
   "version": "3.7.6"
  }
 },
 "nbformat": 4,
 "nbformat_minor": 4
}
